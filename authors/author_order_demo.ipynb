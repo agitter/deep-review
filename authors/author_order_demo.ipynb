{
 "cells": [
  {
   "cell_type": "markdown",
   "metadata": {},
   "source": [
    "# Order deep-review authors\n",
    "Create multiple types of equal contributions.  Within a contribution class (defined [here](https://github.com/greenelab/deep-review/issues/369#issue-225440959)), authors are randomly ordered.  Once an initial ordering has been made, any new authors (for example, authors added during revisions) are placed at the end of the ordered list for the appropriate contribution class.  Use a seed for a deterministic ordering."
   ]
  },
  {
   "cell_type": "code",
   "execution_count": 1,
   "metadata": {
    "collapsed": false
   },
   "outputs": [],
   "source": [
    "def print_authors(contrib_map):\n",
    "    authors = []\n",
    "    for contrib_type in sorted(contrib_map.keys()):\n",
    "        authors.extend(contrib_map[contrib_type])\n",
    "    print('{}\\n'.format(', '.join(authors)))"
   ]
  },
  {
   "cell_type": "code",
   "execution_count": 2,
   "metadata": {
    "collapsed": false
   },
   "outputs": [
    {
     "name": "stdout",
     "output_type": "stream",
     "text": [
      "Before ordering\n",
      "@a, @b, @c, @i, @j, @k, @s, @t, @u, @y, @z\n",
      "\n",
      "After initial ordering\n",
      "@a, @c, @b, @i, @k, @j, @s, @t, @u, @z, @y\n",
      "\n",
      "After adding authors\n",
      "@a, @c, @b, @i, @k, @j, @l, @s, @t, @u, @w, @v, @z, @y\n",
      "\n"
     ]
    }
   ],
   "source": [
    "import random\n",
    "from collections import defaultdict\n",
    "\n",
    "# for the real ordering, will use a separate protocol to set the seed in advance\n",
    "# such that whoever executes the author ordering code cannot manipulate it\n",
    "random.seed('deep-review')\n",
    "\n",
    "# map contribution types to lists of original authors\n",
    "contrib_map = dict()\n",
    "# greater than one subsection\n",
    "contrib_map['01_gt_subsection'] = ['@a','@b','@c']\n",
    "# one subsection\n",
    "contrib_map['02_subsection'] = ['@i','@j','@k']\n",
    "# less than one subsection\n",
    "contrib_map['03_lt_subsection'] = ['@s','@t','@u']\n",
    "# corresponding\n",
    "contrib_map['04_corresponding'] = ['@y','@z']\n",
    "\n",
    "print('Before ordering')\n",
    "print_authors(contrib_map)\n",
    "\n",
    "contrib_types = sorted(contrib_map.keys())\n",
    "\n",
    "# order all initial authors\n",
    "for contrib_type in contrib_types:\n",
    "    random.shuffle(contrib_map[contrib_type])\n",
    "\n",
    "print('After initial ordering')\n",
    "print_authors(contrib_map)\n",
    "\n",
    "# new authors\n",
    "new_contrib_map = defaultdict(list)\n",
    "new_contrib_map['02_subsection'] = ['@l']\n",
    "new_contrib_map['03_lt_subsection'] = ['@v','@w']\n",
    "\n",
    "# add new authors to the end of the existing category in a random order\n",
    "for contrib_type in contrib_types:\n",
    "    random.shuffle(new_contrib_map[contrib_type])\n",
    "    contrib_map[contrib_type].extend(new_contrib_map[contrib_type])\n",
    "\n",
    "print('After adding authors')\n",
    "print_authors(contrib_map)"
   ]
  }
 ],
 "metadata": {
  "kernelspec": {
   "display_name": "Python 3",
   "language": "python",
   "name": "python3"
  },
  "language_info": {
   "codemirror_mode": {
    "name": "ipython",
    "version": 3
   },
   "file_extension": ".py",
   "mimetype": "text/x-python",
   "name": "python",
   "nbconvert_exporter": "python",
   "pygments_lexer": "ipython3",
   "version": "3.5.2"
  }
 },
 "nbformat": 4,
 "nbformat_minor": 2
}
