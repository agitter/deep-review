{
 "cells": [
  {
   "cell_type": "markdown",
   "metadata": {},
   "source": [
    "# Order deep-review authors\n",
    "Create multiple types of equal contributions.  Within a contribution class (defined [here](https://github.com/greenelab/deep-review/issues/369#issue-225440959)), authors are randomly ordered.  Once an initial ordering has been made, any new authors (for example, authors added during revisions) are placed at the end of the ordered list for the appropriate contribution class.  Use a seed for a deterministic ordering."
   ]
  },
  {
   "cell_type": "code",
   "execution_count": 1,
   "metadata": {
    "collapsed": false
   },
   "outputs": [],
   "source": [
    "def print_authors(contrib_map):\n",
    "    authors = []\n",
    "    for contrib_type in sorted(contrib_map.keys()):\n",
    "        authors.extend(contrib_map[contrib_type])\n",
    "    print('{}\\n'.format(', '.join(authors)))"
   ]
  },
  {
   "cell_type": "code",
   "execution_count": 2,
   "metadata": {
    "collapsed": false
   },
   "outputs": [
    {
     "name": "stdout",
     "output_type": "stream",
     "text": [
      "Before ordering\n",
      "@a, @b, @c, @i, @j, @k, @s, @t, @u, @y, @z\n",
      "\n",
      "After initial ordering\n",
      "@b, @c, @a, @j, @k, @i, @u, @t, @s, @z, @y\n",
      "\n",
      "After adding authors\n",
      "@b, @c, @a, @j, @k, @i, @l, @n, @m, @o, @u, @t, @s, @w, @v, @z, @y\n",
      "\n"
     ]
    }
   ],
   "source": [
    "import random\n",
    "from collections import defaultdict\n",
    "\n",
    "# for the real ordering, will use a separate protocol to set the seed in advance\n",
    "# such that whoever executes the author ordering code cannot manipulate it.\n",
    "# it will be based on the hex representation of a git commit id\n",
    "# this example uses commit\n",
    "# https://github.com/greenelab/deep-review/commit/74f4336a66d06fae41a37314435196fab5d2199c\n",
    "random.seed(0x74f4336a66d06fae41a37314435196fab5d2199c)\n",
    "\n",
    "# map contribution types to lists of original authors\n",
    "contrib_map = dict()\n",
    "# greater than one subsection\n",
    "contrib_map['01_gt_subsection'] = ['@a','@b','@c']\n",
    "# one subsection\n",
    "contrib_map['02_subsection'] = ['@i','@j','@k']\n",
    "# less than one subsection\n",
    "contrib_map['03_lt_subsection'] = ['@s','@t','@u']\n",
    "# corresponding\n",
    "contrib_map['04_corresponding'] = ['@y','@z']\n",
    "\n",
    "print('Before ordering')\n",
    "print_authors(contrib_map)\n",
    "\n",
    "contrib_types = sorted(contrib_map.keys())\n",
    "\n",
    "# order all initial authors\n",
    "for contrib_type in contrib_types:\n",
    "    random.shuffle(contrib_map[contrib_type])\n",
    "\n",
    "print('After initial ordering')\n",
    "print_authors(contrib_map)\n",
    "\n",
    "# new authors\n",
    "new_contrib_map = defaultdict(list)\n",
    "new_contrib_map['02_subsection'] = ['@l', '@m', '@n', '@o']\n",
    "new_contrib_map['03_lt_subsection'] = ['@v','@w']\n",
    "\n",
    "# add new authors to the end of the existing category in a random order\n",
    "for contrib_type in contrib_types:\n",
    "    random.shuffle(new_contrib_map[contrib_type])\n",
    "    contrib_map[contrib_type].extend(new_contrib_map[contrib_type])\n",
    "\n",
    "print('After adding authors')\n",
    "print_authors(contrib_map)"
   ]
  }
 ],
 "metadata": {
  "kernelspec": {
   "display_name": "Python 3",
   "language": "python",
   "name": "python3"
  },
  "language_info": {
   "codemirror_mode": {
    "name": "ipython",
    "version": 3
   },
   "file_extension": ".py",
   "mimetype": "text/x-python",
   "name": "python",
   "nbconvert_exporter": "python",
   "pygments_lexer": "ipython3",
   "version": "3.5.2"
  }
 },
 "nbformat": 4,
 "nbformat_minor": 2
}
